{
    "cells": [
        {
            "metadata": {},
            "cell_type": "markdown",
            "source": "### In London, if someone is looking to open a restaurant, where should it be?"
        },
        {
            "metadata": {},
            "cell_type": "markdown",
            "source": "Description of problem:\nA client is asking to recommend an area to open a luxury Asian restaurant in London. They want their restaurant to be in an area with higher asian population, that area's household income to adjust price, area access to public transport."
        },
        {
            "metadata": {},
            "cell_type": "markdown",
            "source": "Description of data:\n1. Demographics of different areas in London, top 3 area with highest asian population\n2. Average household income in those area of London\n3. Amount of asian restaurants in those area competition\n4. Spaces that can be chosen as potential restaurant locations\n5. "
        }
    ],
    "metadata": {
        "kernelspec": {
            "name": "python3",
            "display_name": "Python 3.7",
            "language": "python"
        },
        "language_info": {
            "name": "python",
            "version": "3.7.9",
            "mimetype": "text/x-python",
            "codemirror_mode": {
                "name": "ipython",
                "version": 3
            },
            "pygments_lexer": "ipython3",
            "nbconvert_exporter": "python",
            "file_extension": ".py"
        }
    },
    "nbformat": 4,
    "nbformat_minor": 1
}